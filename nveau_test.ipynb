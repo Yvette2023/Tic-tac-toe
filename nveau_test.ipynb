{
 "cells": [
  {
   "cell_type": "code",
   "execution_count": 28,
   "metadata": {},
   "outputs": [
    {
     "name": "stdout",
     "output_type": "stream",
     "text": [
      "None|None|None\n",
      "None|None|None\n",
      "None|None|None\n"
     ]
    }
   ],
   "source": [
    "grille={\n",
    "        'a':[None,None,None],\n",
    "        'b':[None,None,None],\n",
    "        'c':[None,None,None]\n",
    "}\n",
    "\n",
    "# afficher la grille\n",
    "def afficher_grille(grille):  \n",
    "    print(\"{}|{}|{}\".format(grille['a'][0],grille['a'][1],grille['a'][2]))\n",
    "    print(\"{}|{}|{}\".format(grille['b'][0],grille['b'][1],grille['b'][2]))\n",
    "    print(\"{}|{}|{}\".format(grille['c'][0],grille['c'][1],grille['c'][2]))\n",
    "\n",
    "afficher_grille(grille)"
   ]
  },
  {
   "cell_type": "code",
   "execution_count": 29,
   "metadata": {},
   "outputs": [
    {
     "name": "stdout",
     "output_type": "stream",
     "text": [
      "[None, None, None]\n",
      "[None, None, None]\n",
      "[None, None, None]\n"
     ]
    }
   ],
   "source": [
    "for keys,values in grille.items():\n",
    "    print(values)"
   ]
  },
  {
   "cell_type": "code",
   "execution_count": 30,
   "metadata": {},
   "outputs": [
    {
     "name": "stdout",
     "output_type": "stream",
     "text": [
      "[None, None, None]\n"
     ]
    }
   ],
   "source": [
    "while values==None:\n",
    "    print(\"au joueur suivant\")\n",
    "\n",
    "print(values)"
   ]
  },
  {
   "cell_type": "code",
   "execution_count": 31,
   "metadata": {},
   "outputs": [
    {
     "data": {
      "text/plain": [
       "'le jeu est terminé'"
      ]
     },
     "execution_count": 31,
     "metadata": {},
     "output_type": "execute_result"
    }
   ],
   "source": [
    "def jeu_terminer(grille):\n",
    "    for case in grille:\n",
    "        if case ==None:\n",
    "            print(\"au joueur suivant\")\n",
    "        return (\"le jeu est terminé\")\n",
    "jeu_terminer(grille)"
   ]
  },
  {
   "cell_type": "code",
   "execution_count": 35,
   "metadata": {},
   "outputs": [
    {
     "data": {
      "text/plain": [
       "'le jeu est terminé'"
      ]
     },
     "execution_count": 35,
     "metadata": {},
     "output_type": "execute_result"
    }
   ],
   "source": [
    "def jeu_terminer(grille):\n",
    "    for values in grille.items():\n",
    "        if values == None:\n",
    "            return (\"au joueur suivant\")\n",
    "    else:\n",
    "        return(\"le jeu est terminé\")\n",
    "jeu_terminer(grille)"
   ]
  },
  {
   "cell_type": "code",
   "execution_count": 4,
   "metadata": {},
   "outputs": [],
   "source": [
    "def grille_gagnate(grille,joueur):\n",
    "    if (grille['a'][0]) == joueur and grille['a'][1]==joueur and grille['a'][2]== joueur or (grille['b'][0]) == joueur and grille['b'][1]==joueur and grille['b'][2]== joueur or (grille['c'][0]) == joueur and grille['c'][1]==joueur and grille['c'][2]== joueur :\n",
    "        return True\n",
    "    else:\n",
    "        return False "
   ]
  },
  {
   "cell_type": "markdown",
   "metadata": {},
   "source": []
  },
  {
   "cell_type": "code",
   "execution_count": 5,
   "metadata": {},
   "outputs": [
    {
     "ename": "SyntaxError",
     "evalue": "incomplete input (1252008100.py, line 3)",
     "output_type": "error",
     "traceback": [
      "\u001b[0;36m  Cell \u001b[0;32mIn[5], line 3\u001b[0;36m\u001b[0m\n\u001b[0;31m    \u001b[0m\n\u001b[0m    ^\u001b[0m\n\u001b[0;31mSyntaxError\u001b[0m\u001b[0;31m:\u001b[0m incomplete input\n"
     ]
    }
   ],
   "source": [
    "joueur=[\"x\",\"o\"]\n",
    "def tour_jeu(grille,joueur):\n",
    "    \n"
   ]
  },
  {
   "cell_type": "code",
   "execution_count": null,
   "metadata": {},
   "outputs": [
    {
     "ename": "SyntaxError",
     "evalue": "expected ':' (1149567566.py, line 2)",
     "output_type": "error",
     "traceback": [
      "\u001b[0;36m  Cell \u001b[0;32mIn[15], line 2\u001b[0;36m\u001b[0m\n\u001b[0;31m    if(grille['a'][0]) == (grille['a'][1])==(grille['a'][2]) or (grille['b'][0]) == (grille['b'][1])==(grille['b'][2]) or (grille['c'][0]) == (grille['c'][1])==(grille['c'][2])\u001b[0m\n\u001b[0m                                                                                                                                                                                ^\u001b[0m\n\u001b[0;31mSyntaxError\u001b[0m\u001b[0;31m:\u001b[0m expected ':'\n"
     ]
    }
   ],
   "source": [
    "def grille_gagnante(grille):\n",
    "    if(grille['a'][0]) == (grille['a'][1])==(grille['a'][2]) or (grille['b'][0]) == (grille['b'][1])==(grille['b'][2]) or (grille['c'][0]) == (grille['c'][1])==(grille['c'][2])\n",
    "    print(\"c'est gagné\")\n",
    "    else :\n",
    "    for case in grille:\n",
    "        if case == None:\n",
    "            print(\"au joueur suivant\")\n",
    "        return (\"le jeu est terminé\")"
   ]
  }
 ],
 "metadata": {
  "kernelspec": {
   "display_name": "base",
   "language": "python",
   "name": "python3"
  },
  "language_info": {
   "codemirror_mode": {
    "name": "ipython",
    "version": 3
   },
   "file_extension": ".py",
   "mimetype": "text/x-python",
   "name": "python",
   "nbconvert_exporter": "python",
   "pygments_lexer": "ipython3",
   "version": "3.10.8"
  },
  "orig_nbformat": 4,
  "vscode": {
   "interpreter": {
    "hash": "d25f34363254810493f69e19f8fea8925d807b842d2c9e5aec83143d940402f1"
   }
  }
 },
 "nbformat": 4,
 "nbformat_minor": 2
}
