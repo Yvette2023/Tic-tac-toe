{
 "cells": [
  {
   "cell_type": "code",
   "execution_count": 1,
   "metadata": {},
   "outputs": [
    {
     "name": "stdout",
     "output_type": "stream",
     "text": [
      "[[None, None, None], [None, None, None], [None, None, None]]\n"
     ]
    }
   ],
   "source": [
    "grille=[[None,None,None],[None,None,None],[None,None,None]]\n",
    "print(grille)"
   ]
  },
  {
   "cell_type": "code",
   "execution_count": 3,
   "metadata": {},
   "outputs": [],
   "source": [
    "def afficher_grille(grille):  \n",
    "    print(\" | | |\")\n",
    "    print(\"\"+ grille[0]+\"|\"+ grille[1] + \"|\"+grille [2]+\"|\" )\n",
    "    \n"
   ]
  },
  {
   "cell_type": "code",
   "execution_count": null,
   "metadata": {},
   "outputs": [],
   "source": []
  }
 ],
 "metadata": {
  "kernelspec": {
   "display_name": "base",
   "language": "python",
   "name": "python3"
  },
  "language_info": {
   "codemirror_mode": {
    "name": "ipython",
    "version": 3
   },
   "file_extension": ".py",
   "mimetype": "text/x-python",
   "name": "python",
   "nbconvert_exporter": "python",
   "pygments_lexer": "ipython3",
   "version": "3.10.8 (main, Nov 24 2022, 14:13:03) [GCC 11.2.0]"
  },
  "orig_nbformat": 4,
  "vscode": {
   "interpreter": {
    "hash": "d25f34363254810493f69e19f8fea8925d807b842d2c9e5aec83143d940402f1"
   }
  }
 },
 "nbformat": 4,
 "nbformat_minor": 2
}
